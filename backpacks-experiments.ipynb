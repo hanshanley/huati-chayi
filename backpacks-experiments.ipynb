{
 "cells": [
  {
   "cell_type": "code",
   "execution_count": 8,
   "id": "c763fb99",
   "metadata": {},
   "outputs": [],
   "source": [
    "import pandas as pd"
   ]
  },
  {
   "cell_type": "code",
   "execution_count": 11,
   "id": "83f6e2c4",
   "metadata": {},
   "outputs": [],
   "source": [
    "data = pd.read_csv('topic_dataset.csv', sep = '\\t')"
   ]
  },
  {
   "cell_type": "code",
   "execution_count": 16,
   "id": "8e040e64",
   "metadata": {},
   "outputs": [
    {
     "data": {
      "text/plain": [
       "'\\\\n MARTINSBURG, W.Va.  A suspected drunken driver was arrested in a New Years Day highway crash that killed another motorist in West Virginia, police said.\\\\nThe accident occurred early Wednesday along southbound Interstate 81 in Berkeley County, The Journal reported.\\\\nCody Wade Braithwaite, 32, of Winchester, Virginia, was charged with DUI with death, fleeing DUI, and being a prohibited person in possession of a firearm and a fugitive from justice, Berkeley County Sheriff Curtis Keller said.\\\\nKeller said a deputy investigating calls about a reckless driver attempted to make a traffic stop, but the suspects vehicle sped up and hit a car, which then struck a guardrail. The driver of the car was pronounced dead at the scene. The drivers name was not immediately released.\\\\nThe suspects vehicle also hit a deputys cruiser before being stopped, Keller said.\\\\nBraithwaite was being held without bond in the Eastern Regional Jail. It wasnt immediately known whether Braithwaite has an attorney.\\\\n___\\\\nInformation from: The Journal,  \\\\nCopyright 2020 The Associated Press. All rights reserved. This material may not be published, broadcast, rewritten or redistributed.'"
      ]
     },
     "execution_count": 16,
     "metadata": {},
     "output_type": "execute_result"
    }
   ],
   "source": [
    "data['paragraph1'][0]"
   ]
  },
  {
   "cell_type": "code",
   "execution_count": null,
   "id": "b08d49d6",
   "metadata": {},
   "outputs": [],
   "source": [
    "import torch\n",
    "from transformers import AutoConfig, AutoModelForCausalLM\n",
    "model_id = \"stanfordnlp/backpack-gpt2\""
   ]
  },
  {
   "cell_type": "code",
   "execution_count": 7,
   "id": "2ab18b7e",
   "metadata": {},
   "outputs": [
    {
     "data": {
      "text/plain": [
       "BackpackGPT2LMHeadModel(\n",
       "  (backpack): BackpackGPT2Model(\n",
       "    (gpt2_model): GPT2Model(\n",
       "      (wte): Embedding(50264, 768)\n",
       "      (wpe): Embedding(512, 768)\n",
       "      (drop): Dropout(p=0.1, inplace=False)\n",
       "      (h): ModuleList(\n",
       "        (0-11): 12 x GPT2Block(\n",
       "          (ln_1): LayerNorm((768,), eps=1e-05, elementwise_affine=True)\n",
       "          (attn): GPT2Attention(\n",
       "            (c_attn): Conv1D()\n",
       "            (c_proj): Conv1D()\n",
       "            (attn_dropout): Dropout(p=0.1, inplace=False)\n",
       "            (resid_dropout): Dropout(p=0.1, inplace=False)\n",
       "          )\n",
       "          (ln_2): LayerNorm((768,), eps=1e-05, elementwise_affine=True)\n",
       "          (mlp): GPT2MLP(\n",
       "            (c_fc): Conv1D()\n",
       "            (c_proj): Conv1D()\n",
       "            (act): NewGELUActivation()\n",
       "            (dropout): Dropout(p=0.1, inplace=False)\n",
       "          )\n",
       "        )\n",
       "      )\n",
       "      (ln_f): LayerNorm((768,), eps=1e-05, elementwise_affine=True)\n",
       "    )\n",
       "    (sense_network): BackpackSenseNetwork(\n",
       "      (dropout): Dropout(p=0.1, inplace=False)\n",
       "      (block): BackpackNoMixBlock(\n",
       "        (ln_1): LayerNorm((768,), eps=1e-05, elementwise_affine=True)\n",
       "        (ln_2): LayerNorm((768,), eps=1e-05, elementwise_affine=True)\n",
       "        (mlp): BackpackMLP(\n",
       "          (c_fc): Conv1D()\n",
       "          (c_proj): Conv1D()\n",
       "          (act): NewGELUActivation()\n",
       "          (dropout): Dropout(p=0.1, inplace=False)\n",
       "        )\n",
       "        (resid_dropout1): Dropout(p=0.1, inplace=False)\n",
       "        (resid_dropout2): Dropout(p=0.1, inplace=False)\n",
       "      )\n",
       "      (ln): LayerNorm((768,), eps=1e-05, elementwise_affine=True)\n",
       "      (final_mlp): BackpackMLP(\n",
       "        (c_fc): Conv1D()\n",
       "        (c_proj): Conv1D()\n",
       "        (act): NewGELUActivation()\n",
       "        (dropout): Dropout(p=0.1, inplace=False)\n",
       "      )\n",
       "    )\n",
       "    (word_embeddings): Embedding(50264, 768)\n",
       "    (position_embeddings): Embedding(512, 768)\n",
       "    (sense_weight_net): BackpackWeightNetwork(\n",
       "      (c_attn): Linear(in_features=768, out_features=1536, bias=True)\n",
       "    )\n",
       "  )\n",
       "  (lm_head): Linear(in_features=768, out_features=50264, bias=False)\n",
       ")"
      ]
     },
     "execution_count": 7,
     "metadata": {},
     "output_type": "execute_result"
    }
   ],
   "source": [
    "config = AutoConfig.from_pretrained(model_id, trust_remote_code=True)\n",
    "torch_model = AutoModelForCausalLM.from_pretrained(model_id, config=config, trust_remote_code=True)\n",
    "torch_model.eval()"
   ]
  },
  {
   "cell_type": "code",
   "execution_count": 4,
   "id": "6170acc9",
   "metadata": {},
   "outputs": [
    {
     "name": "stdout",
     "output_type": "stream",
     "text": [
      "tensor([[[2.9813e-04, 3.3946e-03, 3.2190e-05,  ..., 2.5290e-11,\n",
      "          1.2664e-11, 1.0058e-11],\n",
      "         [3.7501e-04, 8.2923e-04, 1.3898e-06,  ..., 9.2811e-12,\n",
      "          1.7234e-11, 5.7149e-12],\n",
      "         [2.7535e-04, 1.1318e-03, 9.1015e-07,  ..., 3.6219e-11,\n",
      "          5.2071e-11, 1.8966e-11],\n",
      "         ...,\n",
      "         [1.1725e-03, 1.2010e-04, 4.8068e-05,  ..., 4.9462e-08,\n",
      "          6.7665e-08, 4.7130e-08],\n",
      "         [1.2670e-03, 2.3082e-04, 1.8400e-04,  ..., 7.1862e-08,\n",
      "          8.2393e-08, 6.7143e-08],\n",
      "         [9.9462e-04, 5.0109e-04, 1.6771e-04,  ..., 5.4929e-08,\n",
      "          5.3534e-08, 4.7658e-08]]], grad_fn=<SoftmaxBackward0>)\n"
     ]
    }
   ],
   "source": [
    "input = torch.randint(0, 50264, (1, 512), dtype=torch.long)\n",
    "torch_out = torch_model(\n",
    "    input,\n",
    "    position_ids=None,\n",
    ")\n",
    "torch_out = torch.nn.functional.softmax(torch_out.logits, dim=-1)\n",
    "print(torch_out)"
   ]
  },
  {
   "cell_type": "code",
   "execution_count": null,
   "id": "1e503fa7",
   "metadata": {},
   "outputs": [],
   "source": []
  }
 ],
 "metadata": {
  "kernelspec": {
   "display_name": "faiss_gpu",
   "language": "python",
   "name": "faiss_gpu"
  },
  "language_info": {
   "codemirror_mode": {
    "name": "ipython",
    "version": 3
   },
   "file_extension": ".py",
   "mimetype": "text/x-python",
   "name": "python",
   "nbconvert_exporter": "python",
   "pygments_lexer": "ipython3",
   "version": "3.10.13"
  }
 },
 "nbformat": 4,
 "nbformat_minor": 5
}
