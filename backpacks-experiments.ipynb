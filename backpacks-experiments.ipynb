{
 "cells": [
  {
   "cell_type": "code",
   "execution_count": 1,
   "id": "3f1d964a",
   "metadata": {},
   "outputs": [
    {
     "name": "stderr",
     "output_type": "stream",
     "text": [
      "/home/hhanley/miniconda3/envs/faiss_gpu/lib/python3.10/site-packages/tqdm/auto.py:21: TqdmWarning: IProgress not found. Please update jupyter and ipywidgets. See https://ipywidgets.readthedocs.io/en/stable/user_install.html\n",
      "  from .autonotebook import tqdm as notebook_tqdm\n"
     ]
    }
   ],
   "source": [
    "import torch\n",
    "from transformers import AutoConfig, AutoModelForCausalLM\n",
    "\n",
    "model_id = \"stanfordnlp/backpack-gpt2\""
   ]
  },
  {
   "cell_type": "code",
   "execution_count": 3,
   "id": "2ab18b7e",
   "metadata": {},
   "outputs": [
    {
     "name": "stderr",
     "output_type": "stream",
     "text": [
      "Downloading config.json: 100%|███████████████████████████████████████████████████████████████████████████████████████████████████████████████████████████████████████████| 952/952 [00:00<00:00, 2.42MB/s]\n",
      "Downloading (…)ion_backpack_gpt2.py: 100%|███████████████████████████████████████████████████████████████████████████████████████████████████████████████████████████| 1.66k/1.66k [00:00<00:00, 4.62MB/s]\n",
      "A new version of the following files was downloaded from https://huggingface.co/stanfordnlp/backpack-gpt2:\n",
      "- configuration_backpack_gpt2.py\n",
      ". Make sure to double-check they do not contain any added malicious code. To avoid downloading new versions of the code file, you can pin a revision.\n",
      "Downloading (…)ing_backpack_gpt2.py: 100%|███████████████████████████████████████████████████████████████████████████████████████████████████████████████████████████| 8.49k/8.49k [00:00<00:00, 19.4MB/s]\n",
      "A new version of the following files was downloaded from https://huggingface.co/stanfordnlp/backpack-gpt2:\n",
      "- modeling_backpack_gpt2.py\n",
      ". Make sure to double-check they do not contain any added malicious code. To avoid downloading new versions of the code file, you can pin a revision.\n",
      "/home/hhanley/miniconda3/envs/faiss_gpu/lib/python3.10/site-packages/torch/cuda/__init__.py:611: UserWarning: Can't initialize NVML\n",
      "  warnings.warn(\"Can't initialize NVML\")\n",
      "Downloading pytorch_model.bin: 100%|███████████████████████████████████████████████████████████████████████████████████████████████████████████████████████████████████| 684M/684M [00:16<00:00, 40.5MB/s]\n"
     ]
    },
    {
     "data": {
      "text/plain": [
       "BackpackGPT2LMHeadModel(\n",
       "  (backpack): BackpackGPT2Model(\n",
       "    (gpt2_model): GPT2Model(\n",
       "      (wte): Embedding(50264, 768)\n",
       "      (wpe): Embedding(512, 768)\n",
       "      (drop): Dropout(p=0.1, inplace=False)\n",
       "      (h): ModuleList(\n",
       "        (0-11): 12 x GPT2Block(\n",
       "          (ln_1): LayerNorm((768,), eps=1e-05, elementwise_affine=True)\n",
       "          (attn): GPT2Attention(\n",
       "            (c_attn): Conv1D()\n",
       "            (c_proj): Conv1D()\n",
       "            (attn_dropout): Dropout(p=0.1, inplace=False)\n",
       "            (resid_dropout): Dropout(p=0.1, inplace=False)\n",
       "          )\n",
       "          (ln_2): LayerNorm((768,), eps=1e-05, elementwise_affine=True)\n",
       "          (mlp): GPT2MLP(\n",
       "            (c_fc): Conv1D()\n",
       "            (c_proj): Conv1D()\n",
       "            (act): NewGELUActivation()\n",
       "            (dropout): Dropout(p=0.1, inplace=False)\n",
       "          )\n",
       "        )\n",
       "      )\n",
       "      (ln_f): LayerNorm((768,), eps=1e-05, elementwise_affine=True)\n",
       "    )\n",
       "    (sense_network): BackpackSenseNetwork(\n",
       "      (dropout): Dropout(p=0.1, inplace=False)\n",
       "      (block): BackpackNoMixBlock(\n",
       "        (ln_1): LayerNorm((768,), eps=1e-05, elementwise_affine=True)\n",
       "        (ln_2): LayerNorm((768,), eps=1e-05, elementwise_affine=True)\n",
       "        (mlp): BackpackMLP(\n",
       "          (c_fc): Conv1D()\n",
       "          (c_proj): Conv1D()\n",
       "          (act): NewGELUActivation()\n",
       "          (dropout): Dropout(p=0.1, inplace=False)\n",
       "        )\n",
       "        (resid_dropout1): Dropout(p=0.1, inplace=False)\n",
       "        (resid_dropout2): Dropout(p=0.1, inplace=False)\n",
       "      )\n",
       "      (ln): LayerNorm((768,), eps=1e-05, elementwise_affine=True)\n",
       "      (final_mlp): BackpackMLP(\n",
       "        (c_fc): Conv1D()\n",
       "        (c_proj): Conv1D()\n",
       "        (act): NewGELUActivation()\n",
       "        (dropout): Dropout(p=0.1, inplace=False)\n",
       "      )\n",
       "    )\n",
       "    (word_embeddings): Embedding(50264, 768)\n",
       "    (position_embeddings): Embedding(512, 768)\n",
       "    (sense_weight_net): BackpackWeightNetwork(\n",
       "      (c_attn): Linear(in_features=768, out_features=1536, bias=True)\n",
       "    )\n",
       "  )\n",
       "  (lm_head): Linear(in_features=768, out_features=50264, bias=False)\n",
       ")"
      ]
     },
     "execution_count": 3,
     "metadata": {},
     "output_type": "execute_result"
    }
   ],
   "source": [
    "config = AutoConfig.from_pretrained(model_id, trust_remote_code=True)\n",
    "torch_model = AutoModelForCausalLM.from_pretrained(model_id, config=config, trust_remote_code=True)\n",
    "torch_model.eval()"
   ]
  },
  {
   "cell_type": "code",
   "execution_count": 4,
   "id": "6170acc9",
   "metadata": {},
   "outputs": [
    {
     "name": "stdout",
     "output_type": "stream",
     "text": [
      "tensor([[[2.9813e-04, 3.3946e-03, 3.2190e-05,  ..., 2.5290e-11,\n",
      "          1.2664e-11, 1.0058e-11],\n",
      "         [3.7501e-04, 8.2923e-04, 1.3898e-06,  ..., 9.2811e-12,\n",
      "          1.7234e-11, 5.7149e-12],\n",
      "         [2.7535e-04, 1.1318e-03, 9.1015e-07,  ..., 3.6219e-11,\n",
      "          5.2071e-11, 1.8966e-11],\n",
      "         ...,\n",
      "         [1.1725e-03, 1.2010e-04, 4.8068e-05,  ..., 4.9462e-08,\n",
      "          6.7665e-08, 4.7130e-08],\n",
      "         [1.2670e-03, 2.3082e-04, 1.8400e-04,  ..., 7.1862e-08,\n",
      "          8.2393e-08, 6.7143e-08],\n",
      "         [9.9462e-04, 5.0109e-04, 1.6771e-04,  ..., 5.4929e-08,\n",
      "          5.3534e-08, 4.7658e-08]]], grad_fn=<SoftmaxBackward0>)\n"
     ]
    }
   ],
   "source": [
    "input = torch.randint(0, 50264, (1, 512), dtype=torch.long)\n",
    "torch_out = torch_model(\n",
    "    input,\n",
    "    position_ids=None,\n",
    ")\n",
    "torch_out = torch.nn.functional.softmax(torch_out.logits, dim=-1)\n",
    "print(torch_out)"
   ]
  },
  {
   "cell_type": "code",
   "execution_count": null,
   "id": "1e503fa7",
   "metadata": {},
   "outputs": [],
   "source": []
  }
 ],
 "metadata": {
  "kernelspec": {
   "display_name": "faiss_gpu",
   "language": "python",
   "name": "faiss_gpu"
  },
  "language_info": {
   "codemirror_mode": {
    "name": "ipython",
    "version": 3
   },
   "file_extension": ".py",
   "mimetype": "text/x-python",
   "name": "python",
   "nbconvert_exporter": "python",
   "pygments_lexer": "ipython3",
   "version": "3.10.13"
  }
 },
 "nbformat": 4,
 "nbformat_minor": 5
}
